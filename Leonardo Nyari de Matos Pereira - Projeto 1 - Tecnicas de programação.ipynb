{
 "cells": [
  {
   "cell_type": "code",
   "execution_count": 0,
   "metadata": {
    "application/vnd.databricks.v1+cell": {
     "cellMetadata": {
      "byteLimit": 2048000,
      "rowLimit": 10000
     },
     "inputWidgets": {},
     "nuid": "d4cb1974-c6f4-471e-81a7-6e52f3da86d7",
     "showTitle": false,
     "title": ""
    }
   },
   "outputs": [
    {
     "output_type": "stream",
     "name": "stdout",
     "output_type": "stream",
     "text": [
      "A média dos resultados é 7.02.\nO lançamento máximo do dado é 12.\nO lançamento mínimo do dado é 2.\nO Lançamento 2 ocorreu 31 vezes.\nO Lançamento 3 ocorreu 74 vezes.\nO Lançamento 4 ocorreu 69 vezes.\nO Lançamento 5 ocorreu 85 vezes.\nO Lançamento 6 ocorreu 134 vezes.\nO Lançamento 7 ocorreu 175 vezes.\nO Lançamento 8 ocorreu 144 vezes.\nO Lançamento 9 ocorreu 122 vezes.\nO Lançamento 10 ocorreu 90 vezes.\nO Lançamento 11 ocorreu 55 vezes.\nO Lançamento 12 ocorreu 21 vezes.\nOs resultados não coincidem com a suposição de um jogo justo pois as contagens observadas nos resultados dos lançamentos não correspondem às contagens esperadas de acordo com a suposição de um jogo justo.\nEm média, um jogador pode esperar obter 7.02 pontos por lançamento.\n"
     ]
    }
   ],
   "source": [
    "#Turma Unimed Campinas Nº 1108\n",
    "#Aluno Leonardo Nyari de Matos Pereira ID 1108022\n",
    "\n",
    "#Simulação de Dados: Crie uma função que simule o lançamento de dois dados de seis lados (valores de 1 a 6). Esta função deve retornar a soma dos resultados dos dados.\n",
    "\n",
    "import numpy as np\n",
    "\n",
    "def simulador_lancamento_dados():\n",
    "    dadoa = np.random.randint(1, 7)\n",
    "    dadob = np.random.randint(1, 7)\n",
    "    return dadoa + dadob\n",
    "\n",
    "#Múltiplas Simulações: Use a função do passo 1 para simular um grande número de jogos de dados (digamos, 1000 jogos). Armazene o resultado de cada jogo em um array NumPy.\n",
    "\n",
    "njogos = 1000\n",
    "resultadosarmazenados = []\n",
    "\n",
    "for i in range(njogos):\n",
    "    resultadojogo = simulador_lancamento_dados()\n",
    "    resultadosarmazenados.append(resultadojogo)\n",
    "\n",
    "resultadosarmazenados = np.array(resultadosarmazenados)\n",
    "\n",
    "#Análise de Dados: Agora, vamos analisar os resultados desses jogos. Calcule e imprima o seguinte:\n",
    "\n",
    "#A média dos resultados.\n",
    "\n",
    "media = np.mean(resultadosarmazenados)\n",
    "print(f'A média dos resultados é {media:.2f}.')\n",
    "\n",
    "#O lançamento máximo e mínimo.\n",
    "\n",
    "maximolançamento = np.max(resultadosarmazenados)\n",
    "minimolançamento = np.min(resultadosarmazenados)\n",
    "print(f'O lançamento máximo do dado é {maximolançamento}.')\n",
    "print(f'O lançamento mínimo do dado é {minimolançamento}.')\n",
    "\n",
    "#O número de vezes que cada possível lançamento (2, 3, 4, 5, 6, 7, 8, 9, 10, 11 e 12) ocorreu.\n",
    "\n",
    "ocorrencias = np.bincount(resultadosarmazenados)[2:]\n",
    "for i, count in enumerate(ocorrencias, start=2):\n",
    "    print(f'O Lançamento {i} ocorreu {count} vezes.')\n",
    "\n",
    "#Teste de Hipótese: Agora vamos fazer um pouco de teste de hipóteses:\n",
    "\n",
    "#Supondo um jogo justo (ou seja, todos os lançamentos são igualmente prováveis), o resultado da sua simulação coincide com essa suposição? Por que sim ou por que não?\n",
    "\n",
    "probabilidade = np.array([1,2,3,4,5,6,5,4,3,2,1])\n",
    "\n",
    "if np.allclose(ocorrencias, probabilidade):\n",
    "    print(\"Os resultados coincidem com a suposição de um jogo justo.\")\n",
    "else:\n",
    "    print(\"Os resultados não coincidem com a suposição de um jogo justo pois as contagens observadas nos resultados dos lançamentos não correspondem às contagens esperadas de acordo com a suposição de um jogo justo.\")\n",
    "\n",
    "\n",
    "#O que isso significa para um jogador do jogo de dados?\n",
    "print(\"Em média, um jogador pode esperar obter {:.2f} pontos por lançamento.\".format(media))"
   ]
  }
 ],
 "metadata": {
  "application/vnd.databricks.v1+notebook": {
   "dashboards": [],
   "language": "python",
   "notebookMetadata": {
    "pythonIndentUnit": 4
   },
   "notebookName": "Projeto 1 - Tecnicas de programação",
   "widgets": {}
  }
 },
 "nbformat": 4,
 "nbformat_minor": 0
}
